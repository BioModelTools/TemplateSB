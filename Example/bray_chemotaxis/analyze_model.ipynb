{
 "cells": [
  {
   "cell_type": "markdown",
   "metadata": {},
   "source": [
    "# Analysis of Models to Templatize"
   ]
  },
  {
   "cell_type": "code",
   "execution_count": 1,
   "metadata": {
    "collapsed": false
   },
   "outputs": [
    {
     "name": "stderr",
     "output_type": "stream",
     "text": [
      "/home/ubuntu/miniconda2/lib/python2.7/site-packages/tellurium/notebooks/__init__.py:16: UserWarning: Notebook tools are not imported, due to missing dependencies.\n",
      "  warnings.warn(\"Notebook tools are not imported, due to missing dependencies.\")\n"
     ]
    }
   ],
   "source": [
    "%matplotlib inline\n",
    "import tellurium as te\n",
    "import matplotlib.pyplot as plt"
   ]
  },
  {
   "cell_type": "code",
   "execution_count": 2,
   "metadata": {
    "collapsed": false
   },
   "outputs": [],
   "source": [
    "def getAntimonyModel(biomodel):\n",
    "  \"\"\"\n",
    "  :param str biomodel: string identifier of the biomodel\n",
    "  \"\"\"\n",
    "  url = \"http://www.ebi.ac.uk/biomodels-main/download?mid=%s\" % biomodel\n",
    "  return te.loadSBMLModel(url).getAntimony()      "
   ]
  },
  {
   "cell_type": "code",
   "execution_count": null,
   "metadata": {
    "collapsed": false
   },
   "outputs": [],
   "source": [
    "#print getAntimonyModel(\"BIOMD0000000200\")"
   ]
  },
  {
   "cell_type": "code",
   "execution_count": null,
   "metadata": {
    "collapsed": false
   },
   "outputs": [],
   "source": [
    "#print getAntimonyModel(\"BIOMD0000000223\")"
   ]
  },
  {
   "cell_type": "code",
   "execution_count": null,
   "metadata": {
    "collapsed": false
   },
   "outputs": [],
   "source": [
    "print getAntimonyModel(\"BIOMD0000000090\")"
   ]
  },
  {
   "cell_type": "code",
   "execution_count": null,
   "metadata": {
    "collapsed": false
   },
   "outputs": [],
   "source": [
    "#print getAntimonyModel(\"insulin_model.xml\")"
   ]
  },
  {
   "cell_type": "code",
   "execution_count": null,
   "metadata": {
    "collapsed": false
   },
   "outputs": [],
   "source": [
    "#antimonyStr = te.loadSBMLModel(\"insulin_model.xml\").getAntimony()\n",
    "#print(antimonyStr)"
   ]
  },
  {
   "cell_type": "markdown",
   "metadata": {},
   "source": []
  },
  {
   "cell_type": "code",
   "execution_count": null,
   "metadata": {
    "collapsed": false
   },
   "outputs": [
    {
     "name": "stderr",
     "output_type": "stream",
     "text": [
      "/home/ubuntu/miniconda2/lib/python2.7/site-packages/tellurium/sedml/tephrasedml.py:247: UserWarning: No phrasedml string selected, defaulting to first phrasedml.\n",
      "  warnings.warn(\"No phrasedml string selected, defaulting to first phrasedml.\")\n"
     ]
    }
   ],
   "source": [
    "model = getAntimonyModel(\"BIOMD0000000090\")\n",
    "rr = te.loada(model)\n",
    "result = rr.simulate(0, 1800, 1000)\n",
    "#// Outputs\n",
    "#plot \"EGF/Insulin Crosstalk, nM (y) vs sec (x) (Borsiov, 2009)\" time vs tRas, ppErk +\n",
    "#pErk, ppAkt + pAkt\n",
    "# rr.plot(['tRas'], loc=None, show=True,\n",
    "#           linewidth=2.0, linestyle='-', color='black', alpha=0.8).show()\n",
    "phrasedmlStr = '''\n",
    "model = model \"Wolf2001_Respiratory_Oscillations\"\n",
    "// Simulation\n",
    "simulation1 = simulate uniform_stochastic(0, 2000, 10)\n",
    "// Tasks\n",
    "task = run simulation1 on model\n",
    "\n",
    "// Plots\n",
    "plot \"ATM Model: Protein Numbers\" task.time vs task.SHP2\n",
    "'''\n",
    "\n",
    "phrasedmlStr = \\\n",
    "'''\n",
    "model1 =  model \"Wolf2001_Respiratory_Oscillations\"\n",
    "// Simulations\n",
    "sim1 = simulate uniform(0, 100, 1000)\n",
    "// Tasks\n",
    "task1 = run sim1 on model1\n",
    "// Outputs\n",
    "plot \"Limit cycle oscillations (Wolf, 2001)\" time vs A3m, A3c, N2, oxy, hyd\n",
    "\n",
    "plot \"Phase plot\" oxy vs A3m, A3c, N2, hyd\n",
    "'''\n",
    "\n",
    "exp = te.experiment(model, phrasedmlStr)\n",
    "exp.execute()"
   ]
  }
 ],
 "metadata": {
  "kernelspec": {
   "display_name": "Python 2",
   "language": "python",
   "name": "python2"
  },
  "language_info": {
   "codemirror_mode": {
    "name": "ipython",
    "version": 2
   },
   "file_extension": ".py",
   "mimetype": "text/x-python",
   "name": "python",
   "nbconvert_exporter": "python",
   "pygments_lexer": "ipython2",
   "version": "2.7.11"
  }
 },
 "nbformat": 4,
 "nbformat_minor": 0
}
