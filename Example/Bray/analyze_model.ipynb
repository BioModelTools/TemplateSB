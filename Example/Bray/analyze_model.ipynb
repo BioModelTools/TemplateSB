{
 "cells": [
  {
   "cell_type": "markdown",
   "metadata": {},
   "source": [
    "# Analysis of Models to Templatize"
   ]
  },
  {
   "cell_type": "code",
   "execution_count": 1,
   "metadata": {
    "collapsed": false
   },
   "outputs": [
    {
     "name": "stderr",
     "output_type": "stream",
     "text": [
      "/home/ubuntu/miniconda2/lib/python2.7/site-packages/tellurium/notebooks/__init__.py:16: UserWarning: Notebook tools are not imported, due to missing dependencies.\n",
      "  warnings.warn(\"Notebook tools are not imported, due to missing dependencies.\")\n"
     ]
    }
   ],
   "source": [
    "%matplotlib inline\n",
    "import tellurium as te\n",
    "import matplotlib.pyplot as plt"
   ]
  },
  {
   "cell_type": "code",
   "execution_count": 2,
   "metadata": {
    "collapsed": false
   },
   "outputs": [],
   "source": [
    "def getAntimonyModel(biomodel):\n",
    "  \"\"\"\n",
    "  :param str biomodel: string identifier of the biomodel\n",
    "  \"\"\"\n",
    "  url = \"http://www.ebi.ac.uk/biomodels-main/download?mid=%s\" % biomodel\n",
    "  return te.loadSBMLModel(url).getAntimony()      "
   ]
  },
  {
   "cell_type": "code",
   "execution_count": 3,
   "metadata": {
    "collapsed": false,
    "scrolled": false
   },
   "outputs": [],
   "source": [
    "fd = open(\"BIOMD0000000200.mdl\", \"w\")\n",
    "fd.writelines(getAntimonyModel(\"BIOMD0000000200\"))\n",
    "fd.close()"
   ]
  },
  {
   "cell_type": "code",
   "execution_count": 4,
   "metadata": {
    "collapsed": false
   },
   "outputs": [
    {
     "name": "stdout",
     "output_type": "stream",
     "text": [
      "{s} => {s}p\n"
     ]
    }
   ],
   "source": [
    "print(\"{s} => {s}p\")"
   ]
  },
  {
   "cell_type": "code",
   "execution_count": 5,
   "metadata": {
    "collapsed": false,
    "scrolled": true
   },
   "outputs": [
    {
     "name": "stdout",
     "output_type": "stream",
     "text": [
      "\n",
      "TTWWAA => TTWWAAp\n",
      "AA => AAp\n",
      "WAA => WAAp\n",
      "WWAA => WWAAp\n",
      "TTAA => TTAAp\n",
      "TTWAA => TTWAAp\n",
      "Y => Yp\n",
      "\n"
     ]
    }
   ],
   "source": [
    "a = '''\n",
    "TTWWAA => TTWWAAp\n",
    "AA => AAp\n",
    "WAA => WAAp\n",
    "WWAA => WWAAp\n",
    "TTAA => TTAAp\n",
    "TTWAA => TTWAAp\n",
    "Y => Yp\n",
    "'''\n",
    "print(a)"
   ]
  },
  {
   "cell_type": "code",
   "execution_count": 6,
   "metadata": {
    "collapsed": false
   },
   "outputs": [
    {
     "name": "stdout",
     "output_type": "stream",
     "text": [
      "{s}p{n} => {s}p{n+1}\n"
     ]
    }
   ],
   "source": [
    "print(\"{s}p{n} => {s}p{n+1}\")"
   ]
  },
  {
   "cell_type": "code",
   "execution_count": 7,
   "metadata": {
    "collapsed": false
   },
   "outputs": [],
   "source": [
    "#print getAntimonyModel(\"BIOMD0000000223\")"
   ]
  },
  {
   "cell_type": "code",
   "execution_count": 8,
   "metadata": {
    "collapsed": false
   },
   "outputs": [],
   "source": [
    "#print getAntimonyModel(\"BIOMD0000000090\")"
   ]
  },
  {
   "cell_type": "code",
   "execution_count": 9,
   "metadata": {
    "collapsed": false
   },
   "outputs": [],
   "source": [
    "#print getAntimonyModel(\"insulin_model.xml\")"
   ]
  },
  {
   "cell_type": "markdown",
   "metadata": {},
   "source": []
  },
  {
   "cell_type": "code",
   "execution_count": 10,
   "metadata": {
    "collapsed": false
   },
   "outputs": [
    {
     "name": "stdout",
     "output_type": "stream",
     "text": [
      "\n",
      "Re(pat='CT', pfx='complex',  num=1,   m1='TT',     m2='W'                )\n",
      "Re(                          num=2,   m1='W',      m2='AA'               )\n",
      "Re(                          num=3,   m1='TT',     m2='WAA'              )\n",
      "Re(                          num=4,   m1='TTW',    m2='WAA'              )\n",
      "Re(                          num=5,   m1='TTWW',   m2='AA'               )\n",
      "Re(                          num=6,   m1='TT',     m2='WWAA'             )\n",
      "Re(                          num=7,   m1='TT',     m2='AA'               )\n",
      "Re(                          num=8,   m1='TTW',    m2='AA'               )\n",
      "Re(                          num=10,  m1='TTWW',   m2='W'                )\n",
      "Re(                          num=11,  m1='W',      m2='WAA'              )\n",
      "Re(                          num=9,   m1='TTWAA',  m2='W',   mf='TTWWAA' )\n",
      "Re(                          num=12,  m1='W',      m2='W',   mf='TTWAA'  )\n",
      "\n"
     ]
    }
   ],
   "source": [
    "tab = '''\n",
    "Re(pat='CT', pfx='complex',  num=1,   m1='TT',     m2='W'                )\n",
    "Re(                          num=2,   m1='W',      m2='AA'               )\n",
    "Re(                          num=3,   m1='TT',     m2='WAA'              )\n",
    "Re(                          num=4,   m1='TTW',    m2='WAA'              )\n",
    "Re(                          num=5,   m1='TTWW',   m2='AA'               )\n",
    "Re(                          num=6,   m1='TT',     m2='WWAA'             )\n",
    "Re(                          num=7,   m1='TT',     m2='AA'               )\n",
    "Re(                          num=8,   m1='TTW',    m2='AA'               )\n",
    "Re(                          num=10,  m1='TTWW',   m2='W'                )\n",
    "Re(                          num=11,  m1='W',      m2='WAA'              )\n",
    "Re(                          num=9,   m1='TTWAA',  m2='W',   mf='TTWWAA' )\n",
    "Re(                          num=12,  m1='W',      m2='W',   mf='TTWAA'  )\n",
    "'''\n",
    "print(tab)\n"
   ]
  },
  {
   "cell_type": "code",
   "execution_count": 11,
   "metadata": {
    "collapsed": false
   },
   "outputs": [
    {
     "name": "stdout",
     "output_type": "stream",
     "text": [
      "\n",
      "complex_r1: TTW -> TT + W; cell*(complex_r1_k1*TTW - complex_r1_k2*TT*W);\n",
      "complex_r2: WAA -> W + AA; cell*(complex_r2_k1*WAA - complex_r2_k2*W*AA);\n",
      "complex_r3: TTWAA -> TT + WAA; cell*(complex_r3_k1*TTWAA - complex_r3_k2*TT*WAA);\n",
      "complex_r4: TTWWAA -> TTW + WAA; cell*(complex_r4_k1*TTWWAA - complex_r4_k2*TTW*WAA);\n",
      "complex_r5: TTWWAA -> TTWW + AA; cell*(complex_r5_k1*TTWWAA - complex_r5_k2*TTWW*AA);\n",
      "complex_r6: TTWWAA -> TT + WWAA; cell*(complex_r6_k1*TTWWAA - complex_r6_k2*TT*WWAA);\n",
      "complex_r7: TTAA -> TT + AA; cell*(complex_r7_k1*TTAA - complex_r7_k2*TT*AA);\n",
      "complex_r8: TTWAA -> TTW + AA; cell*(complex_r8_k1*TTWAA - complex_r8_k2*TTW*AA);\n",
      "complex_r9: TTWWAA -> TTWAA + W; cell*(complex_r9_k1*TTWWAA - complex_r9_k2*TTWAA*W);\n",
      "complex_r10: TTWW -> TTW + W; cell*(complex_r10_k1*TTWW - complex_r10_k2*TTW*W);\n",
      "complex_r11: WWAA -> W + WAA; cell*(complex_r11_k1*WWAA - complex_r11_k2*W*WAA);\n",
      "complex_r12: TTWAA -> TTAA + W; cell*(complex_r12_k1*TTWAA - complex_r12_k2*TTAA*W);\n",
      "\n"
     ]
    }
   ],
   "source": [
    "mdl = '''\n",
    "complex_r1: TTW -> TT + W; cell*(complex_r1_k1*TTW - complex_r1_k2*TT*W);\n",
    "complex_r2: WAA -> W + AA; cell*(complex_r2_k1*WAA - complex_r2_k2*W*AA);\n",
    "complex_r3: TTWAA -> TT + WAA; cell*(complex_r3_k1*TTWAA - complex_r3_k2*TT*WAA);\n",
    "complex_r4: TTWWAA -> TTW + WAA; cell*(complex_r4_k1*TTWWAA - complex_r4_k2*TTW*WAA);\n",
    "complex_r5: TTWWAA -> TTWW + AA; cell*(complex_r5_k1*TTWWAA - complex_r5_k2*TTWW*AA);\n",
    "complex_r6: TTWWAA -> TT + WWAA; cell*(complex_r6_k1*TTWWAA - complex_r6_k2*TT*WWAA);\n",
    "complex_r7: TTAA -> TT + AA; cell*(complex_r7_k1*TTAA - complex_r7_k2*TT*AA);\n",
    "complex_r8: TTWAA -> TTW + AA; cell*(complex_r8_k1*TTWAA - complex_r8_k2*TTW*AA);\n",
    "complex_r9: TTWWAA -> TTWAA + W; cell*(complex_r9_k1*TTWWAA - complex_r9_k2*TTWAA*W);\n",
    "complex_r10: TTWW -> TTW + W; cell*(complex_r10_k1*TTWW - complex_r10_k2*TTW*W);\n",
    "complex_r11: WWAA -> W + WAA; cell*(complex_r11_k1*WWAA - complex_r11_k2*W*WAA);\n",
    "complex_r12: TTWAA -> TTAA + W; cell*(complex_r12_k1*TTWAA - complex_r12_k2*TTAA*W);\n",
    "'''\n",
    "print(mdl)\n"
   ]
  },
  {
   "cell_type": "code",
   "execution_count": 12,
   "metadata": {
    "collapsed": false
   },
   "outputs": [
    {
     "name": "stdout",
     "output_type": "stream",
     "text": [
      "\n",
      "complex_r1_k1 = 0.00365;\n",
      "complex_r1_k1 has persec;\n",
      "complex_r1_k2 = 1000000;\n",
      "complex_r1_k2 has perMpersec;\n",
      "complex_r2_k1 = 0.00894;\n",
      "complex_r2_k1 has persec;\n",
      "complex_r2_k2 = 1000000;\n",
      "complex_r2_k2 has perMpersec;\n",
      "complex_r3_k1 = 297;\n",
      "complex_r3_k1 has persec;\n",
      "complex_r3_k2 = 1000000;\n",
      "complex_r3_k2 has perMpersec;\n",
      "complex_r4_k1 = 0.64;\n",
      "complex_r4_k1 has persec;\n",
      "complex_r4_k2 = 1000000;\n",
      "complex_r4_k2 has perMpersec;\n",
      "complex_r5_k1 = 0.112;\n",
      "complex_r5_k1 has persec;\n",
      "complex_r5_k2 = 1000000;\n",
      "complex_r5_k2 has perMpersec;\n",
      "complex_r6_k1 = 0.0229;\n",
      "complex_r6_k1 has persec;\n",
      "complex_r6_k2 = 1000000;\n",
      "complex_r6_k2 has perMpersec;\n",
      "complex_r7_k1 = 39.3;\n",
      "complex_r7_k1 has persec;\n",
      "complex_r7_k2 = 1000000;\n",
      "complex_r7_k2 has perMpersec;\n",
      "complex_r8_k1 = 727;\n",
      "complex_r8_k1 has persec;\n",
      "complex_r8_k2 = 1000000;\n",
      "complex_r8_k2 has perMpersec;\n",
      "complex_r9_k1 = 7.87e-06;\n",
      "complex_r9_k1 has persec;\n",
      "complex_r9_k2 = 1000000;\n",
      "complex_r9_k2 has perMpersec;\n",
      "complex_r10_k1 = 0.0511;\n",
      "complex_r10_k1 has persec;\n",
      "complex_r10_k2 = 1000000;\n",
      "complex_r10_k2 has perMpersec;\n",
      "complex_r11_k1 = 0.102;\n",
      "complex_r11_k1 has persec;\n",
      "complex_r11_k2 = 1000000;\n",
      "complex_r11_k2 has perMpersec;\n",
      "complex_r12_k1 = 0.0676;\n",
      "complex_r12_k1 has persec;\n",
      "complex_r12_k2 = 1000000;\n",
      "complex_r12_k2 has perMpersec;\n",
      "\n"
     ]
    }
   ],
   "source": [
    "constants = '''\n",
    "complex_r1_k1 = 0.00365;\n",
    "  complex_r1_k1 has persec;\n",
    "  complex_r1_k2 = 1000000;\n",
    "  complex_r1_k2 has perMpersec;\n",
    "  complex_r2_k1 = 0.00894;\n",
    "  complex_r2_k1 has persec;\n",
    "  complex_r2_k2 = 1000000;\n",
    "  complex_r2_k2 has perMpersec;\n",
    "  complex_r3_k1 = 297;\n",
    "  complex_r3_k1 has persec;\n",
    "  complex_r3_k2 = 1000000;\n",
    "  complex_r3_k2 has perMpersec;\n",
    "  complex_r4_k1 = 0.64;\n",
    "  complex_r4_k1 has persec;\n",
    "  complex_r4_k2 = 1000000;\n",
    "  complex_r4_k2 has perMpersec;\n",
    "  complex_r5_k1 = 0.112;\n",
    "  complex_r5_k1 has persec;\n",
    "  complex_r5_k2 = 1000000;\n",
    "  complex_r5_k2 has perMpersec;\n",
    "  complex_r6_k1 = 0.0229;\n",
    "  complex_r6_k1 has persec;\n",
    "  complex_r6_k2 = 1000000;\n",
    "  complex_r6_k2 has perMpersec;\n",
    "  complex_r7_k1 = 39.3;\n",
    "  complex_r7_k1 has persec;\n",
    "  complex_r7_k2 = 1000000;\n",
    "  complex_r7_k2 has perMpersec;\n",
    "  complex_r8_k1 = 727;\n",
    "  complex_r8_k1 has persec;\n",
    "  complex_r8_k2 = 1000000;\n",
    "  complex_r8_k2 has perMpersec;\n",
    "  complex_r9_k1 = 7.87e-06;\n",
    "  complex_r9_k1 has persec;\n",
    "  complex_r9_k2 = 1000000;\n",
    "  complex_r9_k2 has perMpersec;\n",
    "  complex_r10_k1 = 0.0511;\n",
    "  complex_r10_k1 has persec;\n",
    "  complex_r10_k2 = 1000000;\n",
    "  complex_r10_k2 has perMpersec;\n",
    "  complex_r11_k1 = 0.102;\n",
    "  complex_r11_k1 has persec;\n",
    "  complex_r11_k2 = 1000000;\n",
    "  complex_r11_k2 has perMpersec;\n",
    "  complex_r12_k1 = 0.0676;\n",
    "  complex_r12_k1 has persec;\n",
    "  complex_r12_k2 = 1000000;\n",
    "  complex_r12_k2 has perMpersec;\n",
    "'''\n",
    "print(constants.replace('  complex', 'complex'))"
   ]
  },
  {
   "cell_type": "code",
   "execution_count": 13,
   "metadata": {
    "collapsed": false
   },
   "outputs": [
    {
     "name": "stdout",
     "output_type": "stream",
     "text": [
      "\n",
      "Co(pfx='complex', num=1,  k1v=0.00365, k1u='persec', k2v=1000000, k2u='perMpersec')\n",
      "Co(               num=2,  k1v=0.00894                                             )\n",
      "Co(               num=3,  k1v=297                                                 )\n",
      "Co(               num=4,  k1v=0.64                                                )\n",
      "Co(               num=5,  k1v=0.112                                               )\n",
      "Co(               num=6,  k1v=0.022                                               )\n",
      "Co(               num=7,  k1v=39.3                                                )\n",
      "Co(               num=8,  k1v=727                                                 )\n",
      "Co(               num=9,  k1v=7.87e-06                                            )\n",
      "Co(               num=10, k1v=0.102                                               )\n",
      "Co(               num=12, k1v=0.0676                                              )\n",
      "\n"
     ]
    }
   ],
   "source": [
    "table = '''\n",
    "Co(pfx='complex', num=1,  k1v=0.00365, k1u='persec', k2v=1000000, k2u='perMpersec')\n",
    "Co(               num=2,  k1v=0.00894                                             )\n",
    "Co(               num=3,  k1v=297                                                 )\n",
    "Co(               num=4,  k1v=0.64                                                )\n",
    "Co(               num=5,  k1v=0.112                                               )\n",
    "Co(               num=6,  k1v=0.022                                               )\n",
    "Co(               num=7,  k1v=39.3                                                )\n",
    "Co(               num=8,  k1v=727                                                 )\n",
    "Co(               num=9,  k1v=7.87e-06                                            )\n",
    "Co(               num=10, k1v=0.102                                               )\n",
    "Co(               num=12, k1v=0.0676                                              )\n",
    "'''\n",
    "print(table)"
   ]
  },
  {
   "cell_type": "code",
   "execution_count": 14,
   "metadata": {
    "collapsed": false
   },
   "outputs": [
    {
     "name": "stdout",
     "output_type": "stream",
     "text": [
      "// Created by libAntimony v2.8.1\n",
      "function function_6(IRS_p, IRS_p_phos_by_p70_S6K_pT229_pT389, p70_S6K_pT229_pT389)\n",
      "  IRS_p_phos_by_p70_S6K_pT229_pT389*IRS_p*p70_S6K_pT229_pT389;\n",
      "end\n",
      "\n",
      "function function_3(Amino_Acids, mTORC2, mTORC2_S2481_phos_by_Amino_Acids)\n",
      "  mTORC2_S2481_phos_by_Amino_Acids*mTORC2*Amino_Acids;\n",
      "end\n",
      "\n",
      "function function_14(Akt_S473_phos_by_mTORC2_pS2481_second, Akt_pT308, mTORC2_pS2481)\n",
      "  Akt_S473_phos_by_mTORC2_pS2481_second*Akt_pT308*mTORC2_pS2481;\n",
      "end\n",
      "\n",
      "function function_17(TSC1_TSC2, TSC1_TSC2_pS1387, mTORC1_pS2448, mTORC1_pS2448_dephos_by_TSC1_TSC2)\n",
      "  mTORC1_pS2448_dephos_by_TSC1_TSC2*mTORC1_pS2448*(TSC1_TSC2 + TSC1_TSC2_pS1387);\n",
      "end\n",
      "\n",
      "function function_20(PI3K_p_PDK1, p70_S6K, p70_S6K_T229_phos_by_PI3K_p_PDK1_first)\n",
      "  p70_S6K_T229_phos_by_PI3K_p_PDK1_first*p70_S6K*PI3K_p_PDK1;\n",
      "end\n",
      "\n",
      "function function_19(PI3K_variant_p, mTORC2, mTORC2_S2481_phos_by_PI3K_variant_p)\n",
      "  mTORC2_S2481_phos_by_PI3K_variant_p*mTORC2*PI3K_variant_p;\n",
      "end\n",
      "\n",
      "function function_2(AMPK, AMPK_T172_phos_by_Amino_Acids, Amino_Acids)\n",
      "  AMPK_T172_phos_by_Amino_Acids*AMPK*Amino_Acids;\n",
      "end\n",
      "\n",
      "function function_4(IR_beta, IR_beta_phos_by_Insulin, Insulin)\n",
      "  IR_beta_phos_by_Insulin*IR_beta*Insulin;\n",
      "end\n",
      "\n",
      "function function_23(mTORC1_pS2448, p70_S6K_T389_phos_by_mTORC1_pS2448_second, p70_S6K_pT229)\n",
      "  p70_S6K_T389_phos_by_mTORC1_pS2448_second*p70_S6K_pT229*mTORC1_pS2448;\n",
      "end\n",
      "\n",
      "function function_22(PI3K_p_PDK1, p70_S6K_T229_phos_by_PI3K_p_PDK1_second, p70_S6K_pT389)\n",
      "  p70_S6K_T229_phos_by_PI3K_p_PDK1_second*p70_S6K_pT389*PI3K_p_PDK1;\n",
      "end\n",
      "\n",
      "function function_16(Akt_pT308, Akt_pT308_pS473, TSC1_TSC2, TSC1_TSC2_T1462_phos_by_Akt_pT308)\n",
      "  TSC1_TSC2_T1462_phos_by_Akt_pT308*TSC1_TSC2*(Akt_pT308 + Akt_pT308_pS473);\n",
      "end\n",
      "\n",
      "function function_11(Akt, Akt_T308_phos_by_PI3K_p_PDK1_first, PI3K_p_PDK1)\n",
      "  Akt_T308_phos_by_PI3K_p_PDK1_first*Akt*PI3K_p_PDK1;\n",
      "end\n",
      "\n",
      "function function_27(PRAS40_S183_phos_by_mTORC1_pS2448_second, PRAS40_pT246, mTORC1_pS2448)\n",
      "  PRAS40_S183_phos_by_mTORC1_pS2448_second*PRAS40_pT246*mTORC1_pS2448;\n",
      "end\n",
      "\n",
      "function function_26(Akt_pT308, Akt_pT308_pS473, PRAS40_T246_phos_by_Akt_pT308_second, PRAS40_pS183)\n",
      "  PRAS40_T246_phos_by_Akt_pT308_second*PRAS40_pS183*(Akt_pT308 + Akt_pT308_pS473);\n",
      "end\n",
      "\n",
      "function function_7(IRS, IRS_phos_by_p70_S6K_pT229_pT389, p70_S6K_pT229_pT389)\n",
      "  IRS_phos_by_p70_S6K_pT229_pT389*IRS*p70_S6K_pT229_pT389;\n",
      "end\n",
      "\n",
      "function function_15(AMPK_pT172, TSC1_TSC2, TSC1_TSC2_S1387_phos_by_AMPK_pT172)\n",
      "  TSC1_TSC2_S1387_phos_by_AMPK_pT172*TSC1_TSC2*AMPK_pT172;\n",
      "end\n",
      "\n",
      "function function_9(IR_beta_pY1146, PI3K_variant, PI3K_variant_phos_by_IR_beta_pY1146)\n",
      "  PI3K_variant_phos_by_IR_beta_pY1146*PI3K_variant*IR_beta_pY1146;\n",
      "end\n",
      "\n",
      "function function_12(Akt, Akt_S473_phos_by_mTORC2_pS2481_first, mTORC2_pS2481)\n",
      "  Akt_S473_phos_by_mTORC2_pS2481_first*Akt*mTORC2_pS2481;\n",
      "end\n",
      "\n",
      "function function_18(Amino_Acids, mTORC1, mTORC1_S2448_activation_by_Amino_Acids)\n",
      "  mTORC1_S2448_activation_by_Amino_Acids*mTORC1*Amino_Acids;\n",
      "end\n",
      "\n",
      "function function_10(AMPK, AMPK_T172_phos, IRS_p)\n",
      "  AMPK_T172_phos*AMPK*IRS_p;\n",
      "end\n",
      "\n",
      "function function_13(Akt_T308_phos_by_PI3K_p_PDK1_second, Akt_pS473, PI3K_p_PDK1)\n",
      "  Akt_T308_phos_by_PI3K_p_PDK1_second*Akt_pS473*PI3K_p_PDK1;\n",
      "end\n",
      "\n",
      "function function_8(IRS_p, PI3K_PDK1, PI3K_PDK1_phos_by_IRS_p)\n",
      "  PI3K_PDK1_phos_by_IRS_p*PI3K_PDK1*IRS_p;\n",
      "end\n",
      "\n",
      "function function_21(mTORC1_pS2448, p70_S6K, p70_S6K_T389_phos_by_mTORC1_pS2448_first)\n",
      "  p70_S6K_T389_phos_by_mTORC1_pS2448_first*p70_S6K*mTORC1_pS2448;\n",
      "end\n",
      "\n",
      "function function_5(IRS, IRS_phos_by_IR_beta_pY1146, IR_beta_pY1146)\n",
      "  IRS_phos_by_IR_beta_pY1146*IRS*IR_beta_pY1146;\n",
      "end\n",
      "\n",
      "function function_24(PRAS40, PRAS40_S183_phos_by_mTORC1_pS2448_first, mTORC1_pS2448)\n",
      "  PRAS40_S183_phos_by_mTORC1_pS2448_first*PRAS40*mTORC1_pS2448;\n",
      "end\n",
      "\n",
      "function function_25(Akt_pT308, Akt_pT308_pS473, PRAS40, PRAS40_T246_phos_by_Akt_pT308_first)\n",
      "  PRAS40_T246_phos_by_Akt_pT308_first*PRAS40*(Akt_pT308 + Akt_pT308_pS473);\n",
      "end\n",
      "\n",
      "function function_1(Amino_Acids, IRS, IRS_phos_by_Amino_Acids)\n",
      "  IRS_phos_by_Amino_Acids*IRS*Amino_Acids;\n",
      "end\n",
      "\n",
      "\n",
      "model *MODEL1702270000()\n",
      "\n",
      "  // Compartments and Species:\n",
      "  compartment Cell;\n",
      "  species IR_beta in Cell, IR_beta_pY1146 in Cell, IR_beta_refractory in Cell;\n",
      "  species IRS in Cell, IRS_p in Cell, IRS_pS636 in Cell, AMPK in Cell, AMPK_pT172 in Cell;\n",
      "  species Akt in Cell, Akt_pT308 in Cell, Akt_pS473 in Cell, Akt_pT308_pS473 in Cell;\n",
      "  species TSC1_TSC2 in Cell, TSC1_TSC2_pT1462 in Cell, TSC1_TSC2_pS1387 in Cell;\n",
      "  species mTORC1 in Cell, mTORC1_pS2448 in Cell, mTORC2 in Cell, mTORC2_pS2481 in Cell;\n",
      "  species p70_S6K in Cell, p70_S6K_pT229 in Cell, p70_S6K_pT389 in Cell, p70_S6K_pT229_pT389 in Cell;\n",
      "  species PRAS40 in Cell, PRAS40_pT246 in Cell, PRAS40_pS183 in Cell, PRAS40_pT246_pS183 in Cell;\n",
      "  species PI3K_variant in Cell, PI3K_variant_p in Cell, PI3K_PDK1 in Cell;\n",
      "  species PI3K_p_PDK1 in Cell, $Insulin in Cell, $Amino_Acids in Cell, $IR_beta_pY1146_obs in Cell;\n",
      "  species $IRS_pS636_obs in Cell, $AMPK_pT172_obs in Cell, $Akt_pT308_obs in Cell;\n",
      "  species $Akt_pS473_obs in Cell, $TSC1_TSC2_pS1387_obs in Cell, $mTOR_pS2448_obs in Cell;\n",
      "  species $mTOR_pS2481_obs in Cell, $p70_S6K_pT229_obs in Cell, $p70_S6K_pT389_obs in Cell;\n",
      "  species $PRAS40_pT246_obs in Cell, $PRAS40_pS183_obs in Cell;\n",
      "\n",
      "  // Assignment Rules:\n",
      "  Insulin := piecewise(0, time < 0, 0);\n",
      "  Amino_Acids := piecewise(0, time < 0, 1);\n",
      "  IR_beta_pY1146_obs := IR_beta_pY1146;\n",
      "  IRS_pS636_obs := IRS_pS636;\n",
      "  AMPK_pT172_obs := AMPK_pT172;\n",
      "  Akt_pT308_obs := Akt_pT308 + Akt_pT308_pS473;\n",
      "  Akt_pS473_obs := Akt_pS473 + Akt_pT308_pS473;\n",
      "  TSC1_TSC2_pS1387_obs := TSC1_TSC2_pS1387;\n",
      "  mTOR_pS2448_obs := mTORC1_pS2448;\n",
      "  mTOR_pS2481_obs := mTORC2_pS2481;\n",
      "  p70_S6K_pT229_obs := p70_S6K_pT229 + p70_S6K_pT229_pT389;\n",
      "  p70_S6K_pT389_obs := p70_S6K_pT389 + p70_S6K_pT229_pT389;\n",
      "  PRAS40_pT246_obs := PRAS40_pT246 + PRAS40_pT246_pS183;\n",
      "  PRAS40_pS183_obs := PRAS40_pS183 + PRAS40_pT246_pS183;\n",
      "\n",
      "  // Reactions:\n",
      "  reaction_1: IRS => IRS_p; Cell*function_1(Amino_Acids, IRS, IRS_phos_by_Amino_Acids);\n",
      "  reaction_2: AMPK => AMPK_pT172; Cell*function_2(AMPK, AMPK_T172_phos_by_Amino_Acids, Amino_Acids);\n",
      "  reaction_3: mTORC2 => mTORC2_pS2481; Cell*function_3(Amino_Acids, mTORC2, mTORC2_S2481_phos_by_Amino_Acids);\n",
      "  reaction_4: IR_beta => IR_beta_pY1146; Cell*function_4(IR_beta, IR_beta_phos_by_Insulin, Insulin);\n",
      "  reaction_5: IR_beta_pY1146 => IR_beta_refractory; Cell*IR_beta_pY1146_dephos*IR_beta_pY1146;\n",
      "  reaction_6: IR_beta_refractory => IR_beta; Cell*IR_beta_ready*IR_beta_refractory;\n",
      "  reaction_7: IRS => IRS_p; Cell*function_5(IRS, IRS_phos_by_IR_beta_pY1146, IR_beta_pY1146);\n",
      "  reaction_8: IRS_p => IRS_pS636; Cell*function_6(IRS_p, IRS_p_phos_by_p70_S6K_pT229_pT389, p70_S6K_pT229_pT389);\n",
      "  reaction_9: IRS => IRS_pS636; Cell*function_7(IRS, IRS_phos_by_p70_S6K_pT229_pT389, p70_S6K_pT229_pT389);\n",
      "  reaction_10: IRS_pS636 => IRS; Cell*IRS_pS636_turnover*IRS_pS636;\n",
      "  reaction_11: PI3K_p_PDK1 => PI3K_PDK1; Cell*PI3K_p_PDK1_dephos*PI3K_p_PDK1;\n",
      "  reaction_12: PI3K_PDK1 => PI3K_p_PDK1; Cell*function_8(IRS_p, PI3K_PDK1, PI3K_PDK1_phos_by_IRS_p);\n",
      "  reaction_13: PI3K_variant_p => PI3K_variant; Cell*PI3K_variant_p_dephos*PI3K_variant_p;\n",
      "  reaction_14: PI3K_variant => PI3K_variant_p; Cell*function_9(IR_beta_pY1146, PI3K_variant, PI3K_variant_phos_by_IR_beta_pY1146);\n",
      "  reaction_15: AMPK => AMPK_pT172; Cell*function_10(AMPK, AMPK_T172_phos, IRS_p);\n",
      "  reaction_16: AMPK_pT172 => AMPK; Cell*AMPK_pT172_dephos*AMPK_pT172;\n",
      "  reaction_17: Akt => Akt_pT308; Cell*function_11(Akt, Akt_T308_phos_by_PI3K_p_PDK1_first, PI3K_p_PDK1);\n",
      "  reaction_18: Akt => Akt_pS473; Cell*function_12(Akt, Akt_S473_phos_by_mTORC2_pS2481_first, mTORC2_pS2481);\n",
      "  reaction_19: Akt_pS473 => Akt_pT308_pS473; Cell*function_13(Akt_T308_phos_by_PI3K_p_PDK1_second, Akt_pS473, PI3K_p_PDK1);\n",
      "  reaction_20: Akt_pT308 => Akt_pT308_pS473; Cell*function_14(Akt_S473_phos_by_mTORC2_pS2481_second, Akt_pT308, mTORC2_pS2481);\n",
      "  reaction_21: Akt_pT308 => Akt; Cell*Akt_pT308_dephos_first*Akt_pT308;\n",
      "  reaction_22: Akt_pS473 => Akt; Cell*Akt_pS473_dephos_first*Akt_pS473;\n",
      "  reaction_23: Akt_pT308_pS473 => Akt_pS473; Cell*Akt_pT308_dephos_second*Akt_pT308_pS473;\n",
      "  reaction_24: Akt_pT308_pS473 => Akt_pT308; Cell*Akt_pS473_dephos_second*Akt_pT308_pS473;\n",
      "  reaction_25: TSC1_TSC2 => TSC1_TSC2_pS1387; Cell*function_15(AMPK_pT172, TSC1_TSC2, TSC1_TSC2_S1387_phos_by_AMPK_pT172);\n",
      "  reaction_26: TSC1_TSC2 => TSC1_TSC2_pT1462; Cell*function_16(Akt_pT308, Akt_pT308_pS473, TSC1_TSC2, TSC1_TSC2_T1462_phos_by_Akt_pT308);\n",
      "  reaction_27: TSC1_TSC2_pS1387 => TSC1_TSC2; Cell*TSC1_TSC2_pS1387_dephos*TSC1_TSC2_pS1387;\n",
      "  reaction_28: TSC1_TSC2_pT1462 => TSC1_TSC2; Cell*TSC1_TSC2_pT1462_dephos*TSC1_TSC2_pT1462;\n",
      "  reaction_29: mTORC1_pS2448 => mTORC1; Cell*function_17(TSC1_TSC2, TSC1_TSC2_pS1387, mTORC1_pS2448, mTORC1_pS2448_dephos_by_TSC1_TSC2);\n",
      "  reaction_30: mTORC1 => mTORC1_pS2448; Cell*function_18(Amino_Acids, mTORC1, mTORC1_S2448_activation_by_Amino_Acids);\n",
      "  reaction_31: mTORC2 => mTORC2_pS2481; Cell*function_19(PI3K_variant_p, mTORC2, mTORC2_S2481_phos_by_PI3K_variant_p);\n",
      "  reaction_32: mTORC2_pS2481 => mTORC2; Cell*mTORC2_pS2481_dephos*mTORC2_pS2481;\n",
      "  reaction_33: p70_S6K => p70_S6K_pT229; Cell*function_20(PI3K_p_PDK1, p70_S6K, p70_S6K_T229_phos_by_PI3K_p_PDK1_first);\n",
      "  reaction_34: p70_S6K => p70_S6K_pT389; Cell*function_21(mTORC1_pS2448, p70_S6K, p70_S6K_T389_phos_by_mTORC1_pS2448_first);\n",
      "  reaction_35: p70_S6K_pT389 => p70_S6K_pT229_pT389; Cell*function_22(PI3K_p_PDK1, p70_S6K_T229_phos_by_PI3K_p_PDK1_second, p70_S6K_pT389);\n",
      "  reaction_36: p70_S6K_pT229 => p70_S6K_pT229_pT389; Cell*function_23(mTORC1_pS2448, p70_S6K_T389_phos_by_mTORC1_pS2448_second, p70_S6K_pT229);\n",
      "  reaction_37: p70_S6K_pT229 => p70_S6K; Cell*p70_S6K_pT229_dephos_first*p70_S6K_pT229;\n",
      "  reaction_38: p70_S6K_pT389 => p70_S6K; Cell*p70_S6K_pT389_dephos_first*p70_S6K_pT389;\n",
      "  reaction_39: p70_S6K_pT229_pT389 => p70_S6K_pT389; Cell*p70_S6K_pT229_dephos_second*p70_S6K_pT229_pT389;\n",
      "  reaction_40: p70_S6K_pT229_pT389 => p70_S6K_pT229; Cell*p70_S6K_pT389_dephos_second*p70_S6K_pT229_pT389;\n",
      "  reaction_41: PRAS40 => PRAS40_pS183; Cell*function_24(PRAS40, PRAS40_S183_phos_by_mTORC1_pS2448_first, mTORC1_pS2448);\n",
      "  reaction_42: PRAS40 => PRAS40_pT246; Cell*function_25(Akt_pT308, Akt_pT308_pS473, PRAS40, PRAS40_T246_phos_by_Akt_pT308_first);\n",
      "  reaction_43: PRAS40_pS183 => PRAS40_pT246_pS183; Cell*function_26(Akt_pT308, Akt_pT308_pS473, PRAS40_T246_phos_by_Akt_pT308_second, PRAS40_pS183);\n",
      "  reaction_44: PRAS40_pT246 => PRAS40_pT246_pS183; Cell*function_27(PRAS40_S183_phos_by_mTORC1_pS2448_second, PRAS40_pT246, mTORC1_pS2448);\n",
      "  reaction_45: PRAS40_pS183 => PRAS40; Cell*PRAS40_pS183_dephos_first*PRAS40_pS183;\n",
      "  reaction_46: PRAS40_pT246 => PRAS40; Cell*PRAS40_pT246_dephos_first*PRAS40_pT246;\n",
      "  reaction_47: PRAS40_pT246_pS183 => PRAS40_pT246; Cell*PRAS40_pS183_dephos_second*PRAS40_pT246_pS183;\n",
      "  reaction_48: PRAS40_pT246_pS183 => PRAS40_pS183; Cell*PRAS40_pT246_dephos_second*PRAS40_pT246_pS183;\n",
      "\n",
      "  // Species initializations:\n",
      "  IR_beta = 50;\n",
      "  IR_beta_pY1146 = 0;\n",
      "  IR_beta_refractory = 0;\n",
      "  IRS = 150;\n",
      "  IRS_p = 0;\n",
      "  IRS_pS636 = 0;\n",
      "  AMPK = 50;\n",
      "  AMPK_pT172 = 0;\n",
      "  Akt = 300;\n",
      "  Akt_pT308 = 0;\n",
      "  Akt_pS473 = 0;\n",
      "  Akt_pT308_pS473 = 0;\n",
      "  TSC1_TSC2 = 50;\n",
      "  TSC1_TSC2_pT1462 = 0;\n",
      "  TSC1_TSC2_pS1387 = 0;\n",
      "  mTORC1 = 100;\n",
      "  mTORC1_pS2448 = 0;\n",
      "  mTORC2 = 100;\n",
      "  mTORC2_pS2481 = 0;\n",
      "  p70_S6K = 300;\n",
      "  p70_S6K_pT229 = 0;\n",
      "  p70_S6K_pT389 = 0;\n",
      "  p70_S6K_pT229_pT389 = 0;\n",
      "  PRAS40 = 20;\n",
      "  PRAS40_pT246 = 0;\n",
      "  PRAS40_pS183 = 0;\n",
      "  PRAS40_pT246_pS183 = 0;\n",
      "  PI3K_variant = 50;\n",
      "  PI3K_variant_p = 0;\n",
      "  PI3K_PDK1 = 50;\n",
      "  PI3K_p_PDK1 = 0;\n",
      "\n",
      "  // Compartment initializations:\n",
      "  Cell = 1;\n",
      "\n",
      "  // Variable initializations:\n",
      "  IRS_phos_by_Amino_Acids = 0.0331672;\n",
      "  AMPK_T172_phos_by_Amino_Acids = 17.6284;\n",
      "  mTORC2_S2481_phos_by_Amino_Acids = 0.0268658;\n",
      "  IR_beta_phos_by_Insulin = 0.0203796;\n",
      "  IR_beta_pY1146_dephos = 0.493514;\n",
      "  IR_beta_ready = 323.611;\n",
      "  IRS_phos_by_IR_beta_pY1146 = 2.11894;\n",
      "  IRS_p_phos_by_p70_S6K_pT229_pT389 = 0.338859859949792;\n",
      "  IRS_phos_by_p70_S6K_pT229_pT389 = 0.0863775267376444;\n",
      "  IRS_pS636_turnover = 25;\n",
      "  AMPK_T172_phos = 0.490602;\n",
      "  AMPK_pT172_dephos = 165.704;\n",
      "  Akt_S473_phos_by_mTORC2_pS2481_first = 1.31992e-05;\n",
      "  Akt_S473_phos_by_mTORC2_pS2481_second = 0.159093;\n",
      "  Akt_T308_phos_by_PI3K_p_PDK1_first = 7.47437;\n",
      "  Akt_T308_phos_by_PI3K_p_PDK1_second = 7.47345;\n",
      "  Akt_pT308_dephos_first = 88.9654;\n",
      "  Akt_pT308_dephos_second = 88.9639;\n",
      "  Akt_pS473_dephos_first = 0.376999;\n",
      "  Akt_pS473_dephos_second = 0.380005;\n",
      "  TSC1_TSC2_S1387_phos_by_AMPK_pT172 = 0.00175772;\n",
      "  TSC1_TSC2_T1462_phos_by_Akt_pT308 = 1.52417;\n",
      "  TSC1_TSC2_pS1387_dephos = 0.25319;\n",
      "  TSC1_TSC2_pT1462_dephos = 147.239;\n",
      "  mTORC1_pS2448_dephos_by_TSC1_TSC2 = 0.00869774;\n",
      "  mTORC1_S2448_activation_by_Amino_Acids = 0.0156992;\n",
      "  mTORC2_pS2481_dephos = 1.42511;\n",
      "  mTORC2_S2481_phos_by_PI3K_variant_p = 0.120736;\n",
      "  p70_S6K_T229_phos_by_PI3K_p_PDK1_first = 0.0133520172873009;\n",
      "  p70_S6K_T229_phos_by_PI3K_p_PDK1_second = 1.00000002814509e-06;\n",
      "  p70_S6K_T389_phos_by_mTORC1_pS2448_first = 0.00261303413778722;\n",
      "  p70_S6K_T389_phos_by_mTORC1_pS2448_second = 0.110720890919343;\n",
      "  p70_S6K_pT229_dephos_first = 1.00000012897033e-06;\n",
      "  p70_S6K_pT229_dephos_second = 0.159201353240651;\n",
      "  p70_S6K_pT389_dephos_first = 1.10036057608758;\n",
      "  p70_S6K_pT389_dephos_second = 1.10215267954479;\n",
      "  PRAS40_S183_phos_by_mTORC1_pS2448_first = 0.15881;\n",
      "  PRAS40_S183_phos_by_mTORC1_pS2448_second = 0.0683009;\n",
      "  PRAS40_T246_phos_by_Akt_pT308_first = 0.279344;\n",
      "  PRAS40_T246_phos_by_Akt_pT308_second = 0.279401;\n",
      "  PRAS40_pS183_dephos_first = 1.8706;\n",
      "  PRAS40_pS183_dephos_second = 1.88453;\n",
      "  PRAS40_pT246_dephos_first = 11.8759;\n",
      "  PRAS40_pT246_dephos_second = 11.876;\n",
      "  PI3K_p_PDK1_dephos = 0.18913343080532;\n",
      "  PI3K_PDK1_phos_by_IRS_p = 0.000187226757782201;\n",
      "  PI3K_variant_p_dephos = 0.108074886441184;\n",
      "  PI3K_variant_phos_by_IR_beta_pY1146 = 0.000549027801822575;\n",
      "  scale_IR_beta_pY1146_obs = 1;\n",
      "  scale_IRS_pS636_obs = 1;\n",
      "  scale_AMPK_pT172_obs = 1;\n",
      "  scale_Akt_pT308_obs = 1;\n",
      "  scale_Akt_pS473_obs = 1;\n",
      "  scale_TSC1_TSC2_pS1387_obs = 1;\n",
      "  scale_mTOR_pS2448_obs = 1;\n",
      "  scale_mTOR_pS2481_obs = 1;\n",
      "  scale_p70_S6K_pT229_obs = 1;\n",
      "  scale_p70_S6K_pT389_obs = 1;\n",
      "  scale_PRAS40_pT246_obs = 1;\n",
      "  scale_PRAS40_pS183_obs = 1;\n",
      "\n",
      "  // Other declarations:\n",
      "  const Cell, IRS_phos_by_Amino_Acids, AMPK_T172_phos_by_Amino_Acids, mTORC2_S2481_phos_by_Amino_Acids;\n",
      "  const IR_beta_phos_by_Insulin, IR_beta_pY1146_dephos, IR_beta_ready, IRS_phos_by_IR_beta_pY1146;\n",
      "  const IRS_p_phos_by_p70_S6K_pT229_pT389, IRS_phos_by_p70_S6K_pT229_pT389;\n",
      "  const IRS_pS636_turnover, AMPK_T172_phos, AMPK_pT172_dephos, Akt_S473_phos_by_mTORC2_pS2481_first;\n",
      "  const Akt_S473_phos_by_mTORC2_pS2481_second, Akt_T308_phos_by_PI3K_p_PDK1_first;\n",
      "  const Akt_T308_phos_by_PI3K_p_PDK1_second, Akt_pT308_dephos_first, Akt_pT308_dephos_second;\n",
      "  const Akt_pS473_dephos_first, Akt_pS473_dephos_second, TSC1_TSC2_S1387_phos_by_AMPK_pT172;\n",
      "  const TSC1_TSC2_T1462_phos_by_Akt_pT308, TSC1_TSC2_pS1387_dephos, TSC1_TSC2_pT1462_dephos;\n",
      "  const mTORC1_pS2448_dephos_by_TSC1_TSC2, mTORC1_S2448_activation_by_Amino_Acids;\n",
      "  const mTORC2_pS2481_dephos, mTORC2_S2481_phos_by_PI3K_variant_p, p70_S6K_T229_phos_by_PI3K_p_PDK1_first;\n",
      "  const p70_S6K_T229_phos_by_PI3K_p_PDK1_second, p70_S6K_T389_phos_by_mTORC1_pS2448_first;\n",
      "  const p70_S6K_T389_phos_by_mTORC1_pS2448_second, p70_S6K_pT229_dephos_first;\n",
      "  const p70_S6K_pT229_dephos_second, p70_S6K_pT389_dephos_first, p70_S6K_pT389_dephos_second;\n",
      "  const PRAS40_S183_phos_by_mTORC1_pS2448_first, PRAS40_S183_phos_by_mTORC1_pS2448_second;\n",
      "  const PRAS40_T246_phos_by_Akt_pT308_first, PRAS40_T246_phos_by_Akt_pT308_second;\n",
      "  const PRAS40_pS183_dephos_first, PRAS40_pS183_dephos_second, PRAS40_pT246_dephos_first;\n",
      "  const PRAS40_pT246_dephos_second, PI3K_p_PDK1_dephos, PI3K_PDK1_phos_by_IRS_p;\n",
      "  const PI3K_variant_p_dephos, PI3K_variant_phos_by_IR_beta_pY1146, scale_IR_beta_pY1146_obs;\n",
      "  const scale_IRS_pS636_obs, scale_AMPK_pT172_obs, scale_Akt_pT308_obs, scale_Akt_pS473_obs;\n",
      "  const scale_TSC1_TSC2_pS1387_obs, scale_mTOR_pS2448_obs, scale_mTOR_pS2481_obs;\n",
      "  const scale_p70_S6K_pT229_obs, scale_p70_S6K_pT389_obs, scale_PRAS40_pT246_obs;\n",
      "  const scale_PRAS40_pS183_obs;\n",
      "\n",
      "  // Unit definitions:\n",
      "  unit volume = dimensionless;\n",
      "  unit time_unit = 60 second;\n",
      "  unit substance = dimensionless;\n",
      "\n",
      "  // Display Names:\n",
      "  time_unit is \"time\";\n",
      "end\n",
      "\n"
     ]
    }
   ],
   "source": [
    "biomodel = \"BIOMD0000000640\"\n",
    "print getAntimonyModel(biomodel)"
   ]
  },
  {
   "cell_type": "code",
   "execution_count": 17,
   "metadata": {
    "collapsed": false
   },
   "outputs": [],
   "source": [
    "biomodel = \"BIOMD0000000622\"\n",
    "#print getAntimonyModel(biomodel)\n",
    "fd = open(biomodel + \".mdl\", \"w\")\n",
    "fd.writelines(getAntimonyModel(biomodel))\n",
    "fd.close()"
   ]
  }
 ],
 "metadata": {
  "kernelspec": {
   "display_name": "Python 2",
   "language": "python",
   "name": "python2"
  },
  "language_info": {
   "codemirror_mode": {
    "name": "ipython",
    "version": 2
   },
   "file_extension": ".py",
   "mimetype": "text/x-python",
   "name": "python",
   "nbconvert_exporter": "python",
   "pygments_lexer": "ipython2",
   "version": "2.7.11"
  }
 },
 "nbformat": 4,
 "nbformat_minor": 0
}
